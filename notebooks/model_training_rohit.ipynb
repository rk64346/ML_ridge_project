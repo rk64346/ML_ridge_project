{
 "cells": [
  {
   "cell_type": "code",
   "execution_count": 2,
   "id": "78a3a32d-ff3f-4535-afae-5d9331b9d23c",
   "metadata": {},
   "outputs": [],
   "source": [
    "import pandas as pd\n",
    "import numpy as np\n",
    "import matplotlib.pyplot as plt\n",
    "import seaborn as sns\n",
    "%matplotlib inline"
   ]
  },
  {
   "cell_type": "code",
   "execution_count": 3,
   "id": "9fc4a717-c1b8-4f01-a6bd-52a7fc5807ad",
   "metadata": {},
   "outputs": [
    {
     "data": {
      "text/html": [
       "<div>\n",
       "<style scoped>\n",
       "    .dataframe tbody tr th:only-of-type {\n",
       "        vertical-align: middle;\n",
       "    }\n",
       "\n",
       "    .dataframe tbody tr th {\n",
       "        vertical-align: top;\n",
       "    }\n",
       "\n",
       "    .dataframe thead th {\n",
       "        text-align: right;\n",
       "    }\n",
       "</style>\n",
       "<table border=\"1\" class=\"dataframe\">\n",
       "  <thead>\n",
       "    <tr style=\"text-align: right;\">\n",
       "      <th></th>\n",
       "      <th>day</th>\n",
       "      <th>month</th>\n",
       "      <th>year</th>\n",
       "      <th>Temperature</th>\n",
       "      <th>RH</th>\n",
       "      <th>Ws</th>\n",
       "      <th>Rain</th>\n",
       "      <th>FFMC</th>\n",
       "      <th>DMC</th>\n",
       "      <th>DC</th>\n",
       "      <th>ISI</th>\n",
       "      <th>BUI</th>\n",
       "      <th>FWI</th>\n",
       "      <th>Classes</th>\n",
       "      <th>Region</th>\n",
       "    </tr>\n",
       "  </thead>\n",
       "  <tbody>\n",
       "    <tr>\n",
       "      <th>0</th>\n",
       "      <td>1</td>\n",
       "      <td>6</td>\n",
       "      <td>2012</td>\n",
       "      <td>29</td>\n",
       "      <td>57</td>\n",
       "      <td>18</td>\n",
       "      <td>0.0</td>\n",
       "      <td>65.7</td>\n",
       "      <td>3.4</td>\n",
       "      <td>7.6</td>\n",
       "      <td>1.3</td>\n",
       "      <td>3.4</td>\n",
       "      <td>0.5</td>\n",
       "      <td>0</td>\n",
       "      <td>1</td>\n",
       "    </tr>\n",
       "    <tr>\n",
       "      <th>1</th>\n",
       "      <td>2</td>\n",
       "      <td>6</td>\n",
       "      <td>2012</td>\n",
       "      <td>29</td>\n",
       "      <td>61</td>\n",
       "      <td>13</td>\n",
       "      <td>1.3</td>\n",
       "      <td>64.4</td>\n",
       "      <td>4.1</td>\n",
       "      <td>7.6</td>\n",
       "      <td>1.0</td>\n",
       "      <td>3.9</td>\n",
       "      <td>0.4</td>\n",
       "      <td>0</td>\n",
       "      <td>1</td>\n",
       "    </tr>\n",
       "    <tr>\n",
       "      <th>2</th>\n",
       "      <td>3</td>\n",
       "      <td>6</td>\n",
       "      <td>2012</td>\n",
       "      <td>26</td>\n",
       "      <td>82</td>\n",
       "      <td>22</td>\n",
       "      <td>13.1</td>\n",
       "      <td>47.1</td>\n",
       "      <td>2.5</td>\n",
       "      <td>7.1</td>\n",
       "      <td>0.3</td>\n",
       "      <td>2.7</td>\n",
       "      <td>0.1</td>\n",
       "      <td>0</td>\n",
       "      <td>1</td>\n",
       "    </tr>\n",
       "    <tr>\n",
       "      <th>3</th>\n",
       "      <td>4</td>\n",
       "      <td>6</td>\n",
       "      <td>2012</td>\n",
       "      <td>25</td>\n",
       "      <td>89</td>\n",
       "      <td>13</td>\n",
       "      <td>2.5</td>\n",
       "      <td>28.6</td>\n",
       "      <td>1.3</td>\n",
       "      <td>6.9</td>\n",
       "      <td>0.0</td>\n",
       "      <td>1.7</td>\n",
       "      <td>0.0</td>\n",
       "      <td>0</td>\n",
       "      <td>1</td>\n",
       "    </tr>\n",
       "    <tr>\n",
       "      <th>4</th>\n",
       "      <td>5</td>\n",
       "      <td>6</td>\n",
       "      <td>2012</td>\n",
       "      <td>27</td>\n",
       "      <td>77</td>\n",
       "      <td>16</td>\n",
       "      <td>0.0</td>\n",
       "      <td>64.8</td>\n",
       "      <td>3.0</td>\n",
       "      <td>14.2</td>\n",
       "      <td>1.2</td>\n",
       "      <td>3.9</td>\n",
       "      <td>0.5</td>\n",
       "      <td>0</td>\n",
       "      <td>1</td>\n",
       "    </tr>\n",
       "  </tbody>\n",
       "</table>\n",
       "</div>"
      ],
      "text/plain": [
       "   day  month  year  Temperature  RH  Ws  Rain  FFMC  DMC    DC  ISI  BUI  \\\n",
       "0    1      6  2012           29  57  18   0.0  65.7  3.4   7.6  1.3  3.4   \n",
       "1    2      6  2012           29  61  13   1.3  64.4  4.1   7.6  1.0  3.9   \n",
       "2    3      6  2012           26  82  22  13.1  47.1  2.5   7.1  0.3  2.7   \n",
       "3    4      6  2012           25  89  13   2.5  28.6  1.3   6.9  0.0  1.7   \n",
       "4    5      6  2012           27  77  16   0.0  64.8  3.0  14.2  1.2  3.9   \n",
       "\n",
       "   FWI  Classes  Region  \n",
       "0  0.5        0       1  \n",
       "1  0.4        0       1  \n",
       "2  0.1        0       1  \n",
       "3  0.0        0       1  \n",
       "4  0.5        0       1  "
      ]
     },
     "execution_count": 3,
     "metadata": {},
     "output_type": "execute_result"
    }
   ],
   "source": [
    "df= pd.read_csv('Algerian_forest_fires_cleaned_dataset.csv')\n",
    "df.head()"
   ]
  },
  {
   "cell_type": "code",
   "execution_count": 4,
   "id": "913cc945-8997-48cf-a84d-ea7453b16469",
   "metadata": {},
   "outputs": [
    {
     "data": {
      "text/plain": [
       "1    134\n",
       "0    101\n",
       "Name: Classes, dtype: int64"
      ]
     },
     "execution_count": 4,
     "metadata": {},
     "output_type": "execute_result"
    }
   ],
   "source": [
    "df['Classes'].value_counts()"
   ]
  },
  {
   "cell_type": "code",
   "execution_count": 5,
   "id": "f0c9da6f-cdc0-4b6f-a6f2-dc0833cb7093",
   "metadata": {},
   "outputs": [],
   "source": [
    "df.drop(['day','month','year'],axis=1,inplace=True)"
   ]
  },
  {
   "cell_type": "code",
   "execution_count": 6,
   "id": "89cd135d-b9ab-4505-ac09-1136243be4dc",
   "metadata": {},
   "outputs": [
    {
     "data": {
      "text/html": [
       "<div>\n",
       "<style scoped>\n",
       "    .dataframe tbody tr th:only-of-type {\n",
       "        vertical-align: middle;\n",
       "    }\n",
       "\n",
       "    .dataframe tbody tr th {\n",
       "        vertical-align: top;\n",
       "    }\n",
       "\n",
       "    .dataframe thead th {\n",
       "        text-align: right;\n",
       "    }\n",
       "</style>\n",
       "<table border=\"1\" class=\"dataframe\">\n",
       "  <thead>\n",
       "    <tr style=\"text-align: right;\">\n",
       "      <th></th>\n",
       "      <th>Temperature</th>\n",
       "      <th>RH</th>\n",
       "      <th>Ws</th>\n",
       "      <th>Rain</th>\n",
       "      <th>FFMC</th>\n",
       "      <th>DMC</th>\n",
       "      <th>DC</th>\n",
       "      <th>ISI</th>\n",
       "      <th>BUI</th>\n",
       "      <th>FWI</th>\n",
       "      <th>Classes</th>\n",
       "      <th>Region</th>\n",
       "    </tr>\n",
       "  </thead>\n",
       "  <tbody>\n",
       "    <tr>\n",
       "      <th>0</th>\n",
       "      <td>29</td>\n",
       "      <td>57</td>\n",
       "      <td>18</td>\n",
       "      <td>0.0</td>\n",
       "      <td>65.7</td>\n",
       "      <td>3.4</td>\n",
       "      <td>7.6</td>\n",
       "      <td>1.3</td>\n",
       "      <td>3.4</td>\n",
       "      <td>0.5</td>\n",
       "      <td>0</td>\n",
       "      <td>1</td>\n",
       "    </tr>\n",
       "    <tr>\n",
       "      <th>1</th>\n",
       "      <td>29</td>\n",
       "      <td>61</td>\n",
       "      <td>13</td>\n",
       "      <td>1.3</td>\n",
       "      <td>64.4</td>\n",
       "      <td>4.1</td>\n",
       "      <td>7.6</td>\n",
       "      <td>1.0</td>\n",
       "      <td>3.9</td>\n",
       "      <td>0.4</td>\n",
       "      <td>0</td>\n",
       "      <td>1</td>\n",
       "    </tr>\n",
       "    <tr>\n",
       "      <th>2</th>\n",
       "      <td>26</td>\n",
       "      <td>82</td>\n",
       "      <td>22</td>\n",
       "      <td>13.1</td>\n",
       "      <td>47.1</td>\n",
       "      <td>2.5</td>\n",
       "      <td>7.1</td>\n",
       "      <td>0.3</td>\n",
       "      <td>2.7</td>\n",
       "      <td>0.1</td>\n",
       "      <td>0</td>\n",
       "      <td>1</td>\n",
       "    </tr>\n",
       "    <tr>\n",
       "      <th>3</th>\n",
       "      <td>25</td>\n",
       "      <td>89</td>\n",
       "      <td>13</td>\n",
       "      <td>2.5</td>\n",
       "      <td>28.6</td>\n",
       "      <td>1.3</td>\n",
       "      <td>6.9</td>\n",
       "      <td>0.0</td>\n",
       "      <td>1.7</td>\n",
       "      <td>0.0</td>\n",
       "      <td>0</td>\n",
       "      <td>1</td>\n",
       "    </tr>\n",
       "    <tr>\n",
       "      <th>4</th>\n",
       "      <td>27</td>\n",
       "      <td>77</td>\n",
       "      <td>16</td>\n",
       "      <td>0.0</td>\n",
       "      <td>64.8</td>\n",
       "      <td>3.0</td>\n",
       "      <td>14.2</td>\n",
       "      <td>1.2</td>\n",
       "      <td>3.9</td>\n",
       "      <td>0.5</td>\n",
       "      <td>0</td>\n",
       "      <td>1</td>\n",
       "    </tr>\n",
       "  </tbody>\n",
       "</table>\n",
       "</div>"
      ],
      "text/plain": [
       "   Temperature  RH  Ws  Rain  FFMC  DMC    DC  ISI  BUI  FWI  Classes  Region\n",
       "0           29  57  18   0.0  65.7  3.4   7.6  1.3  3.4  0.5        0       1\n",
       "1           29  61  13   1.3  64.4  4.1   7.6  1.0  3.9  0.4        0       1\n",
       "2           26  82  22  13.1  47.1  2.5   7.1  0.3  2.7  0.1        0       1\n",
       "3           25  89  13   2.5  28.6  1.3   6.9  0.0  1.7  0.0        0       1\n",
       "4           27  77  16   0.0  64.8  3.0  14.2  1.2  3.9  0.5        0       1"
      ]
     },
     "execution_count": 6,
     "metadata": {},
     "output_type": "execute_result"
    }
   ],
   "source": [
    "df.head()"
   ]
  },
  {
   "cell_type": "code",
   "execution_count": 7,
   "id": "2dfcb658-e48a-41ca-a770-02e2467212c3",
   "metadata": {},
   "outputs": [],
   "source": [
    "##independent and dependent features\n",
    "X=df.drop(['FWI'],axis=1)\n",
    "y=df['FWI']"
   ]
  },
  {
   "cell_type": "code",
   "execution_count": 8,
   "id": "3bb37c2c-e2cb-4f4c-8f01-f8ef028ff10e",
   "metadata": {},
   "outputs": [
    {
     "data": {
      "text/html": [
       "<div>\n",
       "<style scoped>\n",
       "    .dataframe tbody tr th:only-of-type {\n",
       "        vertical-align: middle;\n",
       "    }\n",
       "\n",
       "    .dataframe tbody tr th {\n",
       "        vertical-align: top;\n",
       "    }\n",
       "\n",
       "    .dataframe thead th {\n",
       "        text-align: right;\n",
       "    }\n",
       "</style>\n",
       "<table border=\"1\" class=\"dataframe\">\n",
       "  <thead>\n",
       "    <tr style=\"text-align: right;\">\n",
       "      <th></th>\n",
       "      <th>Temperature</th>\n",
       "      <th>RH</th>\n",
       "      <th>Ws</th>\n",
       "      <th>Rain</th>\n",
       "      <th>FFMC</th>\n",
       "      <th>DMC</th>\n",
       "      <th>DC</th>\n",
       "      <th>ISI</th>\n",
       "      <th>BUI</th>\n",
       "      <th>Classes</th>\n",
       "      <th>Region</th>\n",
       "    </tr>\n",
       "  </thead>\n",
       "  <tbody>\n",
       "    <tr>\n",
       "      <th>0</th>\n",
       "      <td>29</td>\n",
       "      <td>57</td>\n",
       "      <td>18</td>\n",
       "      <td>0.0</td>\n",
       "      <td>65.7</td>\n",
       "      <td>3.4</td>\n",
       "      <td>7.6</td>\n",
       "      <td>1.3</td>\n",
       "      <td>3.4</td>\n",
       "      <td>0</td>\n",
       "      <td>1</td>\n",
       "    </tr>\n",
       "    <tr>\n",
       "      <th>1</th>\n",
       "      <td>29</td>\n",
       "      <td>61</td>\n",
       "      <td>13</td>\n",
       "      <td>1.3</td>\n",
       "      <td>64.4</td>\n",
       "      <td>4.1</td>\n",
       "      <td>7.6</td>\n",
       "      <td>1.0</td>\n",
       "      <td>3.9</td>\n",
       "      <td>0</td>\n",
       "      <td>1</td>\n",
       "    </tr>\n",
       "    <tr>\n",
       "      <th>2</th>\n",
       "      <td>26</td>\n",
       "      <td>82</td>\n",
       "      <td>22</td>\n",
       "      <td>13.1</td>\n",
       "      <td>47.1</td>\n",
       "      <td>2.5</td>\n",
       "      <td>7.1</td>\n",
       "      <td>0.3</td>\n",
       "      <td>2.7</td>\n",
       "      <td>0</td>\n",
       "      <td>1</td>\n",
       "    </tr>\n",
       "    <tr>\n",
       "      <th>3</th>\n",
       "      <td>25</td>\n",
       "      <td>89</td>\n",
       "      <td>13</td>\n",
       "      <td>2.5</td>\n",
       "      <td>28.6</td>\n",
       "      <td>1.3</td>\n",
       "      <td>6.9</td>\n",
       "      <td>0.0</td>\n",
       "      <td>1.7</td>\n",
       "      <td>0</td>\n",
       "      <td>1</td>\n",
       "    </tr>\n",
       "    <tr>\n",
       "      <th>4</th>\n",
       "      <td>27</td>\n",
       "      <td>77</td>\n",
       "      <td>16</td>\n",
       "      <td>0.0</td>\n",
       "      <td>64.8</td>\n",
       "      <td>3.0</td>\n",
       "      <td>14.2</td>\n",
       "      <td>1.2</td>\n",
       "      <td>3.9</td>\n",
       "      <td>0</td>\n",
       "      <td>1</td>\n",
       "    </tr>\n",
       "  </tbody>\n",
       "</table>\n",
       "</div>"
      ],
      "text/plain": [
       "   Temperature  RH  Ws  Rain  FFMC  DMC    DC  ISI  BUI  Classes  Region\n",
       "0           29  57  18   0.0  65.7  3.4   7.6  1.3  3.4        0       1\n",
       "1           29  61  13   1.3  64.4  4.1   7.6  1.0  3.9        0       1\n",
       "2           26  82  22  13.1  47.1  2.5   7.1  0.3  2.7        0       1\n",
       "3           25  89  13   2.5  28.6  1.3   6.9  0.0  1.7        0       1\n",
       "4           27  77  16   0.0  64.8  3.0  14.2  1.2  3.9        0       1"
      ]
     },
     "execution_count": 8,
     "metadata": {},
     "output_type": "execute_result"
    }
   ],
   "source": [
    "X.head()"
   ]
  },
  {
   "cell_type": "code",
   "execution_count": 9,
   "id": "30b9d602-6845-4844-9f3a-cc01a7ac0188",
   "metadata": {},
   "outputs": [
    {
     "data": {
      "text/plain": [
       "0      0.5\n",
       "1      0.4\n",
       "2      0.1\n",
       "3      0.0\n",
       "4      0.5\n",
       "      ... \n",
       "230    6.5\n",
       "231    0.0\n",
       "232    0.2\n",
       "233    0.7\n",
       "234    0.5\n",
       "Name: FWI, Length: 235, dtype: float64"
      ]
     },
     "execution_count": 9,
     "metadata": {},
     "output_type": "execute_result"
    }
   ],
   "source": [
    "y"
   ]
  },
  {
   "cell_type": "code",
   "execution_count": 10,
   "id": "df9397ef-760f-4982-a847-f84db04c3284",
   "metadata": {},
   "outputs": [],
   "source": [
    "##train test split\n",
    "from sklearn.model_selection import train_test_split\n",
    "X_train, X_test, y_train, y_test = train_test_split(X, y, test_size=0.33, random_state=42)"
   ]
  },
  {
   "cell_type": "code",
   "execution_count": 11,
   "id": "1ddeb7de-3bcd-42a0-9847-32b71e07c650",
   "metadata": {},
   "outputs": [
    {
     "data": {
      "text/plain": [
       "((157, 11), (78, 11))"
      ]
     },
     "execution_count": 11,
     "metadata": {},
     "output_type": "execute_result"
    }
   ],
   "source": [
    "X_train.shape, X_test.shape"
   ]
  },
  {
   "cell_type": "code",
   "execution_count": 12,
   "id": "4d5d463b-70ee-4c97-8f9c-01330d4e36f7",
   "metadata": {},
   "outputs": [
    {
     "data": {
      "text/html": [
       "<div>\n",
       "<style scoped>\n",
       "    .dataframe tbody tr th:only-of-type {\n",
       "        vertical-align: middle;\n",
       "    }\n",
       "\n",
       "    .dataframe tbody tr th {\n",
       "        vertical-align: top;\n",
       "    }\n",
       "\n",
       "    .dataframe thead th {\n",
       "        text-align: right;\n",
       "    }\n",
       "</style>\n",
       "<table border=\"1\" class=\"dataframe\">\n",
       "  <thead>\n",
       "    <tr style=\"text-align: right;\">\n",
       "      <th></th>\n",
       "      <th>Temperature</th>\n",
       "      <th>RH</th>\n",
       "      <th>Ws</th>\n",
       "      <th>Rain</th>\n",
       "      <th>FFMC</th>\n",
       "      <th>DMC</th>\n",
       "      <th>DC</th>\n",
       "      <th>ISI</th>\n",
       "      <th>BUI</th>\n",
       "      <th>Classes</th>\n",
       "      <th>Region</th>\n",
       "    </tr>\n",
       "  </thead>\n",
       "  <tbody>\n",
       "    <tr>\n",
       "      <th>Temperature</th>\n",
       "      <td>1.000000</td>\n",
       "      <td>-0.676467</td>\n",
       "      <td>-0.365883</td>\n",
       "      <td>-0.309842</td>\n",
       "      <td>0.711902</td>\n",
       "      <td>0.509400</td>\n",
       "      <td>0.388441</td>\n",
       "      <td>0.645571</td>\n",
       "      <td>0.478822</td>\n",
       "      <td>0.534225</td>\n",
       "      <td>0.298384</td>\n",
       "    </tr>\n",
       "    <tr>\n",
       "      <th>RH</th>\n",
       "      <td>-0.676467</td>\n",
       "      <td>1.000000</td>\n",
       "      <td>0.232642</td>\n",
       "      <td>0.205382</td>\n",
       "      <td>-0.637994</td>\n",
       "      <td>-0.382086</td>\n",
       "      <td>-0.207138</td>\n",
       "      <td>-0.707923</td>\n",
       "      <td>-0.327026</td>\n",
       "      <td>-0.435145</td>\n",
       "      <td>-0.404101</td>\n",
       "    </tr>\n",
       "    <tr>\n",
       "      <th>Ws</th>\n",
       "      <td>-0.365883</td>\n",
       "      <td>0.232642</td>\n",
       "      <td>1.000000</td>\n",
       "      <td>0.271425</td>\n",
       "      <td>-0.222695</td>\n",
       "      <td>-0.030078</td>\n",
       "      <td>0.081320</td>\n",
       "      <td>-0.081242</td>\n",
       "      <td>0.011001</td>\n",
       "      <td>-0.096543</td>\n",
       "      <td>-0.224242</td>\n",
       "    </tr>\n",
       "    <tr>\n",
       "      <th>Rain</th>\n",
       "      <td>-0.309842</td>\n",
       "      <td>0.205382</td>\n",
       "      <td>0.271425</td>\n",
       "      <td>1.000000</td>\n",
       "      <td>-0.516920</td>\n",
       "      <td>-0.266851</td>\n",
       "      <td>-0.287468</td>\n",
       "      <td>-0.326046</td>\n",
       "      <td>-0.279126</td>\n",
       "      <td>-0.344785</td>\n",
       "      <td>-0.046983</td>\n",
       "    </tr>\n",
       "    <tr>\n",
       "      <th>FFMC</th>\n",
       "      <td>0.711902</td>\n",
       "      <td>-0.637994</td>\n",
       "      <td>-0.222695</td>\n",
       "      <td>-0.516920</td>\n",
       "      <td>1.000000</td>\n",
       "      <td>0.597906</td>\n",
       "      <td>0.507156</td>\n",
       "      <td>0.743233</td>\n",
       "      <td>0.583387</td>\n",
       "      <td>0.767840</td>\n",
       "      <td>0.229133</td>\n",
       "    </tr>\n",
       "    <tr>\n",
       "      <th>DMC</th>\n",
       "      <td>0.509400</td>\n",
       "      <td>-0.382086</td>\n",
       "      <td>-0.030078</td>\n",
       "      <td>-0.266851</td>\n",
       "      <td>0.597906</td>\n",
       "      <td>1.000000</td>\n",
       "      <td>0.878379</td>\n",
       "      <td>0.651027</td>\n",
       "      <td>0.983962</td>\n",
       "      <td>0.585690</td>\n",
       "      <td>0.194762</td>\n",
       "    </tr>\n",
       "    <tr>\n",
       "      <th>DC</th>\n",
       "      <td>0.388441</td>\n",
       "      <td>-0.207138</td>\n",
       "      <td>0.081320</td>\n",
       "      <td>-0.287468</td>\n",
       "      <td>0.507156</td>\n",
       "      <td>0.878379</td>\n",
       "      <td>1.000000</td>\n",
       "      <td>0.481825</td>\n",
       "      <td>0.947222</td>\n",
       "      <td>0.519160</td>\n",
       "      <td>-0.070494</td>\n",
       "    </tr>\n",
       "    <tr>\n",
       "      <th>ISI</th>\n",
       "      <td>0.645571</td>\n",
       "      <td>-0.707923</td>\n",
       "      <td>-0.081242</td>\n",
       "      <td>-0.326046</td>\n",
       "      <td>0.743233</td>\n",
       "      <td>0.651027</td>\n",
       "      <td>0.481825</td>\n",
       "      <td>1.000000</td>\n",
       "      <td>0.605510</td>\n",
       "      <td>0.731946</td>\n",
       "      <td>0.279477</td>\n",
       "    </tr>\n",
       "    <tr>\n",
       "      <th>BUI</th>\n",
       "      <td>0.478822</td>\n",
       "      <td>-0.327026</td>\n",
       "      <td>0.011001</td>\n",
       "      <td>-0.279126</td>\n",
       "      <td>0.583387</td>\n",
       "      <td>0.983962</td>\n",
       "      <td>0.947222</td>\n",
       "      <td>0.605510</td>\n",
       "      <td>1.000000</td>\n",
       "      <td>0.579434</td>\n",
       "      <td>0.097624</td>\n",
       "    </tr>\n",
       "    <tr>\n",
       "      <th>Classes</th>\n",
       "      <td>0.534225</td>\n",
       "      <td>-0.435145</td>\n",
       "      <td>-0.096543</td>\n",
       "      <td>-0.344785</td>\n",
       "      <td>0.767840</td>\n",
       "      <td>0.585690</td>\n",
       "      <td>0.519160</td>\n",
       "      <td>0.731946</td>\n",
       "      <td>0.579434</td>\n",
       "      <td>1.000000</td>\n",
       "      <td>0.163924</td>\n",
       "    </tr>\n",
       "    <tr>\n",
       "      <th>Region</th>\n",
       "      <td>0.298384</td>\n",
       "      <td>-0.404101</td>\n",
       "      <td>-0.224242</td>\n",
       "      <td>-0.046983</td>\n",
       "      <td>0.229133</td>\n",
       "      <td>0.194762</td>\n",
       "      <td>-0.070494</td>\n",
       "      <td>0.279477</td>\n",
       "      <td>0.097624</td>\n",
       "      <td>0.163924</td>\n",
       "      <td>1.000000</td>\n",
       "    </tr>\n",
       "  </tbody>\n",
       "</table>\n",
       "</div>"
      ],
      "text/plain": [
       "             Temperature        RH        Ws      Rain      FFMC       DMC  \\\n",
       "Temperature     1.000000 -0.676467 -0.365883 -0.309842  0.711902  0.509400   \n",
       "RH             -0.676467  1.000000  0.232642  0.205382 -0.637994 -0.382086   \n",
       "Ws             -0.365883  0.232642  1.000000  0.271425 -0.222695 -0.030078   \n",
       "Rain           -0.309842  0.205382  0.271425  1.000000 -0.516920 -0.266851   \n",
       "FFMC            0.711902 -0.637994 -0.222695 -0.516920  1.000000  0.597906   \n",
       "DMC             0.509400 -0.382086 -0.030078 -0.266851  0.597906  1.000000   \n",
       "DC              0.388441 -0.207138  0.081320 -0.287468  0.507156  0.878379   \n",
       "ISI             0.645571 -0.707923 -0.081242 -0.326046  0.743233  0.651027   \n",
       "BUI             0.478822 -0.327026  0.011001 -0.279126  0.583387  0.983962   \n",
       "Classes         0.534225 -0.435145 -0.096543 -0.344785  0.767840  0.585690   \n",
       "Region          0.298384 -0.404101 -0.224242 -0.046983  0.229133  0.194762   \n",
       "\n",
       "                   DC       ISI       BUI   Classes    Region  \n",
       "Temperature  0.388441  0.645571  0.478822  0.534225  0.298384  \n",
       "RH          -0.207138 -0.707923 -0.327026 -0.435145 -0.404101  \n",
       "Ws           0.081320 -0.081242  0.011001 -0.096543 -0.224242  \n",
       "Rain        -0.287468 -0.326046 -0.279126 -0.344785 -0.046983  \n",
       "FFMC         0.507156  0.743233  0.583387  0.767840  0.229133  \n",
       "DMC          0.878379  0.651027  0.983962  0.585690  0.194762  \n",
       "DC           1.000000  0.481825  0.947222  0.519160 -0.070494  \n",
       "ISI          0.481825  1.000000  0.605510  0.731946  0.279477  \n",
       "BUI          0.947222  0.605510  1.000000  0.579434  0.097624  \n",
       "Classes      0.519160  0.731946  0.579434  1.000000  0.163924  \n",
       "Region      -0.070494  0.279477  0.097624  0.163924  1.000000  "
      ]
     },
     "execution_count": 12,
     "metadata": {},
     "output_type": "execute_result"
    }
   ],
   "source": [
    "X_train.corr()"
   ]
  },
  {
   "cell_type": "markdown",
   "id": "7510dc58-905c-439f-a9a1-d72899c561e3",
   "metadata": {},
   "source": [
    "feature_seleection"
   ]
  },
  {
   "cell_type": "code",
   "execution_count": 13,
   "id": "fb9b70ea-3af3-4ace-bf7b-544e3d767f33",
   "metadata": {},
   "outputs": [
    {
     "data": {
      "text/plain": [
       "<AxesSubplot: >"
      ]
     },
     "execution_count": 13,
     "metadata": {},
     "output_type": "execute_result"
    },
    {
     "data": {
      "image/png": "[encoded data removed]",
      "text/plain": [
       "<Figure size 1000x800 with 2 Axes>"
      ]
     },
     "metadata": {},
     "output_type": "display_data"
    }
   ],
   "source": [
    "plt.figure(figsize=(10,8))\n",
    "corr=X_train.corr()\n",
    "sns.heatmap(corr,annot=True)"
   ]
  },
  {
   "cell_type": "code",
   "execution_count": 14,
   "id": "c3dda564-a486-4c7e-93ef-c61b618bcd29",
   "metadata": {},
   "outputs": [
    {
     "data": {
      "text/html": [
       "<div>\n",
       "<style scoped>\n",
       "    .dataframe tbody tr th:only-of-type {\n",
       "        vertical-align: middle;\n",
       "    }\n",
       "\n",
       "    .dataframe tbody tr th {\n",
       "        vertical-align: top;\n",
       "    }\n",
       "\n",
       "    .dataframe thead th {\n",
       "        text-align: right;\n",
       "    }\n",
       "</style>\n",
       "<table border=\"1\" class=\"dataframe\">\n",
       "  <thead>\n",
       "    <tr style=\"text-align: right;\">\n",
       "      <th></th>\n",
       "      <th>Temperature</th>\n",
       "      <th>RH</th>\n",
       "      <th>Ws</th>\n",
       "      <th>Rain</th>\n",
       "      <th>FFMC</th>\n",
       "      <th>DMC</th>\n",
       "      <th>DC</th>\n",
       "      <th>ISI</th>\n",
       "      <th>BUI</th>\n",
       "      <th>Classes</th>\n",
       "      <th>Region</th>\n",
       "    </tr>\n",
       "  </thead>\n",
       "  <tbody>\n",
       "    <tr>\n",
       "      <th>Temperature</th>\n",
       "      <td>1.000000</td>\n",
       "      <td>-0.676467</td>\n",
       "      <td>-0.365883</td>\n",
       "      <td>-0.309842</td>\n",
       "      <td>0.711902</td>\n",
       "      <td>0.509400</td>\n",
       "      <td>0.388441</td>\n",
       "      <td>0.645571</td>\n",
       "      <td>0.478822</td>\n",
       "      <td>0.534225</td>\n",
       "      <td>0.298384</td>\n",
       "    </tr>\n",
       "    <tr>\n",
       "      <th>RH</th>\n",
       "      <td>-0.676467</td>\n",
       "      <td>1.000000</td>\n",
       "      <td>0.232642</td>\n",
       "      <td>0.205382</td>\n",
       "      <td>-0.637994</td>\n",
       "      <td>-0.382086</td>\n",
       "      <td>-0.207138</td>\n",
       "      <td>-0.707923</td>\n",
       "      <td>-0.327026</td>\n",
       "      <td>-0.435145</td>\n",
       "      <td>-0.404101</td>\n",
       "    </tr>\n",
       "    <tr>\n",
       "      <th>Ws</th>\n",
       "      <td>-0.365883</td>\n",
       "      <td>0.232642</td>\n",
       "      <td>1.000000</td>\n",
       "      <td>0.271425</td>\n",
       "      <td>-0.222695</td>\n",
       "      <td>-0.030078</td>\n",
       "      <td>0.081320</td>\n",
       "      <td>-0.081242</td>\n",
       "      <td>0.011001</td>\n",
       "      <td>-0.096543</td>\n",
       "      <td>-0.224242</td>\n",
       "    </tr>\n",
       "    <tr>\n",
       "      <th>Rain</th>\n",
       "      <td>-0.309842</td>\n",
       "      <td>0.205382</td>\n",
       "      <td>0.271425</td>\n",
       "      <td>1.000000</td>\n",
       "      <td>-0.516920</td>\n",
       "      <td>-0.266851</td>\n",
       "      <td>-0.287468</td>\n",
       "      <td>-0.326046</td>\n",
       "      <td>-0.279126</td>\n",
       "      <td>-0.344785</td>\n",
       "      <td>-0.046983</td>\n",
       "    </tr>\n",
       "    <tr>\n",
       "      <th>FFMC</th>\n",
       "      <td>0.711902</td>\n",
       "      <td>-0.637994</td>\n",
       "      <td>-0.222695</td>\n",
       "      <td>-0.516920</td>\n",
       "      <td>1.000000</td>\n",
       "      <td>0.597906</td>\n",
       "      <td>0.507156</td>\n",
       "      <td>0.743233</td>\n",
       "      <td>0.583387</td>\n",
       "      <td>0.767840</td>\n",
       "      <td>0.229133</td>\n",
       "    </tr>\n",
       "    <tr>\n",
       "      <th>DMC</th>\n",
       "      <td>0.509400</td>\n",
       "      <td>-0.382086</td>\n",
       "      <td>-0.030078</td>\n",
       "      <td>-0.266851</td>\n",
       "      <td>0.597906</td>\n",
       "      <td>1.000000</td>\n",
       "      <td>0.878379</td>\n",
       "      <td>0.651027</td>\n",
       "      <td>0.983962</td>\n",
       "      <td>0.585690</td>\n",
       "      <td>0.194762</td>\n",
       "    </tr>\n",
       "    <tr>\n",
       "      <th>DC</th>\n",
       "      <td>0.388441</td>\n",
       "      <td>-0.207138</td>\n",
       "      <td>0.081320</td>\n",
       "      <td>-0.287468</td>\n",
       "      <td>0.507156</td>\n",
       "      <td>0.878379</td>\n",
       "      <td>1.000000</td>\n",
       "      <td>0.481825</td>\n",
       "      <td>0.947222</td>\n",
       "      <td>0.519160</td>\n",
       "      <td>-0.070494</td>\n",
       "    </tr>\n",
       "    <tr>\n",
       "      <th>ISI</th>\n",
       "      <td>0.645571</td>\n",
       "      <td>-0.707923</td>\n",
       "      <td>-0.081242</td>\n",
       "      <td>-0.326046</td>\n",
       "      <td>0.743233</td>\n",
       "      <td>0.651027</td>\n",
       "      <td>0.481825</td>\n",
       "      <td>1.000000</td>\n",
       "      <td>0.605510</td>\n",
       "      <td>0.731946</td>\n",
       "      <td>0.279477</td>\n",
       "    </tr>\n",
       "    <tr>\n",
       "      <th>BUI</th>\n",
       "      <td>0.478822</td>\n",
       "      <td>-0.327026</td>\n",
       "      <td>0.011001</td>\n",
       "      <td>-0.279126</td>\n",
       "      <td>0.583387</td>\n",
       "      <td>0.983962</td>\n",
       "      <td>0.947222</td>\n",
       "      <td>0.605510</td>\n",
       "      <td>1.000000</td>\n",
       "      <td>0.579434</td>\n",
       "      <td>0.097624</td>\n",
       "    </tr>\n",
       "    <tr>\n",
       "      <th>Classes</th>\n",
       "      <td>0.534225</td>\n",
       "      <td>-0.435145</td>\n",
       "      <td>-0.096543</td>\n",
       "      <td>-0.344785</td>\n",
       "      <td>0.767840</td>\n",
       "      <td>0.585690</td>\n",
       "      <td>0.519160</td>\n",
       "      <td>0.731946</td>\n",
       "      <td>0.579434</td>\n",
       "      <td>1.000000</td>\n",
       "      <td>0.163924</td>\n",
       "    </tr>\n",
       "    <tr>\n",
       "      <th>Region</th>\n",
       "      <td>0.298384</td>\n",
       "      <td>-0.404101</td>\n",
       "      <td>-0.224242</td>\n",
       "      <td>-0.046983</td>\n",
       "      <td>0.229133</td>\n",
       "      <td>0.194762</td>\n",
       "      <td>-0.070494</td>\n",
       "      <td>0.279477</td>\n",
       "      <td>0.097624</td>\n",
       "      <td>0.163924</td>\n",
       "      <td>1.000000</td>\n",
       "    </tr>\n",
       "  </tbody>\n",
       "</table>\n",
       "</div>"
      ],
      "text/plain": [
       "             Temperature        RH        Ws      Rain      FFMC       DMC  \\\n",
       "Temperature     1.000000 -0.676467 -0.365883 -0.309842  0.711902  0.509400   \n",
       "RH             -0.676467  1.000000  0.232642  0.205382 -0.637994 -0.382086   \n",
       "Ws             -0.365883  0.232642  1.000000  0.271425 -0.222695 -0.030078   \n",
       "Rain           -0.309842  0.205382  0.271425  1.000000 -0.516920 -0.266851   \n",
       "FFMC            0.711902 -0.637994 -0.222695 -0.516920  1.000000  0.597906   \n",
       "DMC             0.509400 -0.382086 -0.030078 -0.266851  0.597906  1.000000   \n",
       "DC              0.388441 -0.207138  0.081320 -0.287468  0.507156  0.878379   \n",
       "ISI             0.645571 -0.707923 -0.081242 -0.326046  0.743233  0.651027   \n",
       "BUI             0.478822 -0.327026  0.011001 -0.279126  0.583387  0.983962   \n",
       "Classes         0.534225 -0.435145 -0.096543 -0.344785  0.767840  0.585690   \n",
       "Region          0.298384 -0.404101 -0.224242 -0.046983  0.229133  0.194762   \n",
       "\n",
       "                   DC       ISI       BUI   Classes    Region  \n",
       "Temperature  0.388441  0.645571  0.478822  0.534225  0.298384  \n",
       "RH          -0.207138 -0.707923 -0.327026 -0.435145 -0.404101  \n",
       "Ws           0.081320 -0.081242  0.011001 -0.096543 -0.224242  \n",
       "Rain        -0.287468 -0.326046 -0.279126 -0.344785 -0.046983  \n",
       "FFMC         0.507156  0.743233  0.583387  0.767840  0.229133  \n",
       "DMC          0.878379  0.651027  0.983962  0.585690  0.194762  \n",
       "DC           1.000000  0.481825  0.947222  0.519160 -0.070494  \n",
       "ISI          0.481825  1.000000  0.605510  0.731946  0.279477  \n",
       "BUI          0.947222  0.605510  1.000000  0.579434  0.097624  \n",
       "Classes      0.519160  0.731946  0.579434  1.000000  0.163924  \n",
       "Region      -0.070494  0.279477  0.097624  0.163924  1.000000  "
      ]
     },
     "execution_count": 14,
     "metadata": {},
     "output_type": "execute_result"
    }
   ],
   "source": [
    "X_train.corr()"
   ]
  },
  {
   "cell_type": "code",
   "execution_count": 15,
   "id": "40dfa2f6-8876-44b8-b332-97330d6942e2",
   "metadata": {},
   "outputs": [],
   "source": [
    "def correlation(dataset,threshold):\n",
    "    col_corr = set()\n",
    "    corr_matrix = dataset.corr()\n",
    "    for i in range(len(corr_matrix.columns)):\n",
    "        for j in range(i):\n",
    "            if abs(corr_matrix.iloc[i, j]) > threshold:\n",
    "                colname = corr_matrix.columns[i]\n",
    "                col_corr.add(colname)\n",
    "    return col_corr\n",
    "    "
   ]
  },
  {
   "cell_type": "code",
   "execution_count": 16,
   "id": "227ef7e5-635d-424d-9b61-bf02c974c1ae",
   "metadata": {},
   "outputs": [],
   "source": [
    "corr_features=correlation(X_train,0.85)"
   ]
  },
  {
   "cell_type": "code",
   "execution_count": 17,
   "id": "40a2494e-723c-4931-8174-546bdeaeeff2",
   "metadata": {},
   "outputs": [
    {
     "data": {
      "text/plain": [
       "{'BUI', 'DC'}"
      ]
     },
     "execution_count": 17,
     "metadata": {},
     "output_type": "execute_result"
    }
   ],
   "source": [
    "corr_features"
   ]
  },
  {
   "cell_type": "code",
   "execution_count": 18,
   "id": "ce7c2809-9b01-4e1c-bc73-7b16c727c11a",
   "metadata": {},
   "outputs": [
    {
     "data": {
      "text/plain": [
       "((78, 9), (157, 9))"
      ]
     },
     "execution_count": 18,
     "metadata": {},
     "output_type": "execute_result"
    }
   ],
   "source": [
    "X_train.drop(corr_features,axis=1,inplace=True)\n",
    "X_test.drop(corr_features,axis=1,inplace=True)\n",
    "X_test.shape,X_train.shape"
   ]
  },
  {
   "cell_type": "markdown",
   "id": "a1626a82-9a95-4875-a945-64c699bb7506",
   "metadata": {
    "tags": []
   },
   "source": [
    "##feature scaling and standardization"
   ]
  },
  {
   "cell_type": "code",
   "execution_count": 19,
   "id": "1642051c-b50f-485f-9d1e-a782135f91d9",
   "metadata": {},
   "outputs": [],
   "source": [
    "from sklearn.preprocessing import StandardScaler"
   ]
  },
  {
   "cell_type": "code",
   "execution_count": 20,
   "id": "feaadfb8-f3f4-4b02-960c-e410296d1171",
   "metadata": {},
   "outputs": [],
   "source": [
    "scaler=StandardScaler()"
   ]
  },
  {
   "cell_type": "code",
   "execution_count": 21,
   "id": "42f92a0a-e0d5-404a-a138-d39d1137508b",
   "metadata": {},
   "outputs": [],
   "source": [
    "X_train_scaled=scaler.fit_transform(X_train)\n",
    "X_test_scaled=scaler.transform(X_test)"
   ]
  },
  {
   "cell_type": "code",
   "execution_count": 22,
   "id": "8d58cfab-cfe9-4682-8ed1-1c67fcc2bfd8",
   "metadata": {},
   "outputs": [
    {
     "data": {
      "text/plain": [
       "array([[ 0.47250941,  0.12606664, -0.99838196, ...,  0.15372483,\n",
       "         0.94422787, -0.93222724],\n",
       "       [-0.32231892,  0.59099027, -0.61420067, ..., -0.89354453,\n",
       "        -1.05906639,  1.07269983],\n",
       "       [ 0.47250941, -1.53437489,  0.92252451, ...,  2.31966827,\n",
       "         0.94422787,  1.07269983],\n",
       "       ...,\n",
       "       [-1.91197556,  0.85666092,  0.53834322, ..., -1.03635398,\n",
       "        -1.05906639, -0.93222724],\n",
       "       [-0.58726169, -0.60452763, -0.61420067, ..., -0.77453664,\n",
       "        -1.05906639,  1.07269983],\n",
       "       [-0.58726169,  0.92307858,  2.07506839, ..., -0.8221398 ,\n",
       "        -1.05906639, -0.93222724]])"
      ]
     },
     "execution_count": 22,
     "metadata": {},
     "output_type": "execute_result"
    }
   ],
   "source": [
    "X_train_scaled"
   ]
  },
  {
   "cell_type": "code",
   "execution_count": 23,
   "id": "7b8f9210-49f9-4902-a3e4-17b289d33765",
   "metadata": {},
   "outputs": [
    {
     "name": "stderr",
     "output_type": "stream",
     "text": [
      "/tmp/ipykernel_381/160744393.py:2: MatplotlibDeprecationWarning: Auto-removal of overlapping axes is deprecated since 3.6 and will be removed two minor releases later; explicitly call ax.remove() as needed.\n",
      "  plt.subplot(1, 2, 1)\n"
     ]
    },
    {
     "data": {
      "text/plain": [
       "Text(0.5, 1.0, 'X_train After Scaling')"
      ]
     },
     "execution_count": 23,
     "metadata": {},
     "output_type": "execute_result"
    },
    {
     "data": {
      "image/png": "[encoded data removed]",
      "text/plain": [
       "<Figure size 1500x500 with 2 Axes>"
      ]
     },
     "metadata": {},
     "output_type": "display_data"
    }
   ],
   "source": [
    "plt.subplots(figsize=(15, 5))\n",
    "plt.subplot(1, 2, 1)\n",
    "sns.boxplot(data=X_train)\n",
    "plt.title('X_train Before Scaling')\n",
    "plt.subplot(1, 2, 2)\n",
    "sns.boxplot(data=X_train_scaled)\n",
    "plt.title('X_train After Scaling')"
   ]
  },
  {
   "cell_type": "markdown",
   "id": "55be817a-e232-48b3-8736-b2f03d6bde79",
   "metadata": {},
   "source": [
    "##linear_regression_model"
   ]
  },
  {
   "cell_type": "code",
   "execution_count": 24,
   "id": "a7b1c8ee-2e00-4a7b-8090-79242e7331f5",
   "metadata": {},
   "outputs": [],
   "source": [
    "from sklearn.linear_model import LinearRegression"
   ]
  },
  {
   "cell_type": "code",
   "execution_count": 25,
   "id": "ade2baae-2106-4c6a-b08f-395039f4ca3d",
   "metadata": {},
   "outputs": [],
   "source": [
    "from sklearn.metrics import mean_absolute_error\n",
    "from sklearn.metrics import r2_score"
   ]
  },
  {
   "cell_type": "code",
   "execution_count": 26,
   "id": "d3863b7a-0f94-4394-9222-7a58fedf5662",
   "metadata": {},
   "outputs": [
    {
     "name": "stdout",
     "output_type": "stream",
     "text": [
      "Mean absolute error 0.7447230889480286\n",
      "R2 Score 0.977926030010293\n"
     ]
    }
   ],
   "source": [
    "linreg=LinearRegression()\n",
    "linreg.fit(X_train_scaled,y_train)\n",
    "y_pred=linreg.predict(X_test_scaled)\n",
    "mae=mean_absolute_error(y_test,y_pred)\n",
    "score=r2_score(y_test,y_pred)\n",
    "print(\"Mean absolute error\", mae)\n",
    "print(\"R2 Score\", score)"
   ]
  },
  {
   "cell_type": "markdown",
   "id": "c1d030aa-6037-421e-b768-ee08c496d7bd",
   "metadata": {},
   "source": [
    "##ridge regression"
   ]
  },
  {
   "cell_type": "code",
   "execution_count": 27,
   "id": "3bcbce96-c1dd-4c11-9fb6-da3feaba6aac",
   "metadata": {},
   "outputs": [
    {
     "name": "stdout",
     "output_type": "stream",
     "text": [
      "Mean absolute error 0.7647937136453924\n",
      "R2 Score 0.9769810958788138\n"
     ]
    }
   ],
   "source": [
    "from sklearn.linear_model import Ridge\n",
    "from sklearn.metrics import mean_absolute_error\n",
    "from sklearn.metrics import r2_score\n",
    "ridge=Ridge()\n",
    "ridge.fit(X_train_scaled,y_train)\n",
    "y_pred=ridge.predict(X_test_scaled)\n",
    "mae=mean_absolute_error(y_test,y_pred)\n",
    "score=r2_score(y_test,y_pred)\n",
    "print(\"Mean absolute error\", mae)\n",
    "print(\"R2 Score\", score)"
   ]
  },
  {
   "cell_type": "markdown",
   "id": "a4f00940-3ce0-48f9-8083-1eb96032bfbc",
   "metadata": {},
   "source": [
    "##lasso regression"
   ]
  },
  {
   "cell_type": "code",
   "execution_count": 28,
   "id": "e5c5fa77-69be-4886-90c6-8c62c40b51bf",
   "metadata": {},
   "outputs": [
    {
     "name": "stdout",
     "output_type": "stream",
     "text": [
      "Mean absolute error 1.3616267228714527\n",
      "R2 Score 0.934428024271278\n"
     ]
    }
   ],
   "source": [
    "from sklearn.linear_model import Lasso\n",
    "from sklearn.metrics import mean_absolute_error\n",
    "from sklearn.metrics import r2_score\n",
    "lasso=Lasso()\n",
    "lasso.fit(X_train_scaled,y_train)\n",
    "y_pred=lasso.predict(X_test_scaled)\n",
    "mae=mean_absolute_error(y_test,y_pred)\n",
    "score=r2_score(y_test,y_pred)\n",
    "print(\"Mean absolute error\", mae)\n",
    "print(\"R2 Score\", score)"
   ]
  },
  {
   "cell_type": "code",
   "execution_count": 41,
   "id": "7efac0e2-eddd-4933-b5dd-5aa70ccc7bbf",
   "metadata": {},
   "outputs": [],
   "source": [
    "##elastic_net regression"
   ]
  },
  {
   "cell_type": "code",
   "execution_count": 29,
   "id": "17188e1b-e39f-46e2-946b-25a447935674",
   "metadata": {},
   "outputs": [
    {
     "name": "stdout",
     "output_type": "stream",
     "text": [
      "Mean absolute error 2.059967560205568\n",
      "R2 Score 0.8577670753829961\n"
     ]
    }
   ],
   "source": [
    "from sklearn.linear_model import ElasticNet\n",
    "from sklearn.metrics import mean_absolute_error\n",
    "from sklearn.metrics import r2_score\n",
    "el=ElasticNet()\n",
    "el.fit(X_train_scaled,y_train)\n",
    "y_pred=el.predict(X_test_scaled)\n",
    "mae=mean_absolute_error(y_test,y_pred)\n",
    "score=r2_score(y_test,y_pred)\n",
    "print(\"Mean absolute error\", mae)\n",
    "print(\"R2 Score\", score)"
   ]
  },
  {
   "cell_type": "code",
   "execution_count": 30,
   "id": "9367a0cb-9a2a-46ec-8826-d56e17566973",
   "metadata": {},
   "outputs": [],
   "source": [
    "import pickle\n",
    "pickle.dump(scaler,open('scaler.pkl','wb'))\n",
    "pickle.dump(ridge,open('ridge.pkl','wb'))"
   ]
  },
  {
   "cell_type": "code",
   "execution_count": null,
   "id": "b84ccb50-5f52-4c20-abc0-4376f83b6bce",
   "metadata": {},
   "outputs": [],
   "source": []
  }
 ],
 "metadata": {
  "kernelspec": {
   "display_name": "Python 3.8.10 64-bit",
   "language": "python",
   "name": "python3"
  },
  "language_info": {
   "codemirror_mode": {
    "name": "ipython",
    "version": 3
   },
   "file_extension": ".py",
   "mimetype": "text/x-python",
   "name": "python",
   "nbconvert_exporter": "python",
   "pygments_lexer": "ipython3",
   "version": "3.8.10"
  },
  "vscode": {
   "interpreter": {
    "hash": "e7370f93d1d0cde622a1f8e1c04877d8463912d04d973331ad4851f04de6915a"
   }
  }
 },
 "nbformat": 4,
 "nbformat_minor": 5
}
